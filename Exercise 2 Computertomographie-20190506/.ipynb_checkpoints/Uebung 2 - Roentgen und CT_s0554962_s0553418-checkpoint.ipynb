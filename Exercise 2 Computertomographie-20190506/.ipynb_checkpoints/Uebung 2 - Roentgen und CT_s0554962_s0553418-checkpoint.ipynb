{
 "cells": [
  {
   "cell_type": "markdown",
   "metadata": {},
   "source": [
    "# Übung 2 - Computertomographie\n",
    "***"
   ]
  },
  {
   "cell_type": "markdown",
   "metadata": {},
   "source": [
    "**Name:** Tayyeb Rezwan Hussain, Mert Sevindik\n",
    "<br>\n",
    "**Matr.-Nr.:** s0554962, s0553418\n",
    "\n",
    "---"
   ]
  },
  {
   "cell_type": "markdown",
   "metadata": {},
   "source": [
    "## Bearbeitungszeitraum\n",
    "\n",
    "**Bearbeitungsbegin:** Mo, 06.05.2019\n",
    "<br>\n",
    "**Abgabe:** So, 02.06.2018, 23:55 Uhr\n",
    "\n",
    "---"
   ]
  },
  {
   "cell_type": "markdown",
   "metadata": {},
   "source": [
    "## Aufgabenbeschreibung"
   ]
  },
  {
   "cell_type": "markdown",
   "metadata": {},
   "source": [
    "Innerhalb der Radiologie werden verschiedene Verfahren zur medizinischen Bildgebung eingesetzt, u.a. das Röntgen und die Computertomographie. Beiden Verfahren liegen die physikalischen Eigenschaften der Röntgenstrahlung und deren Abschwächung bei der Durchstrahlung von Materie zugrunde. Die durch digitale Röntgen- und CT-Bilder visualisierte Messgröße ist jedoch nicht direkt die detektierte Restintensität, sondern ein Schwächungsprofil (vereinfacht kann von Ausgangsintensität - Restintensität ausgegangen werden).\n",
    "\n",
    "Radiologische Bilder werden im standardisierten DICOM-Format gespeichert und übertragen. In einer DICOM-Datei sind neben dem eigentlichen Bild weitere Meta-Daten, z.B. Name des Patienten, Studienbezeichnung oder Parameter des Bildes, abgelegt.\n",
    "\n",
    "Bei CT-Bildern sind die Werte der Bildpunkte in der Pixel-Matrix bereits in den aus den Schwächungsprofilen bestimmten Hounsfield Units HU angegeben (teilweise mit einem Offset versehen, um negative Werte zu vermeiden). Bereiche mit geringer Röntgenschwächung (Luft, Weichteile) führen zu hohen Restintensitäten, weisen jedoch geringe Werte auf der Hounsfield-Skala auf, so dass diese im Graustufenbild dunkel dargestellt werden. Durch diese Umrechnung von Restintensität in Hounsfield Units wird die von den Röntgenfilmen gewohnte Visualisierung (Knochen hell, Weichteile und Luft dunkel) nachempfunden (die eigentlich ausschlaggebende Motivation zur Hounsfield-Skala wurde in der Vorlesung erläutert).\n",
    "\n",
    "#### Wichtige Anmerkungen zu Röntgen- und CT-DICOM-Bildern und deren Visualisierung:\n",
    "- die Pixel-Werte der Bilddaten weisen eine höhere Bandbreite als die 256 Graustufen des RGB-Farbraums auf\n",
    "    - Röntgen: i.d.R. 1024 Signalwerte (10-Bit) aber auch bis zu 4096 Signalwerte (12-Bit)\n",
    "    - Computertomographie: 4096 Signalwerte (12-Bit)\n",
    "- zur Visualisierung ist die Abbildung der Signalwerte in Grauwerte nötig - dies kann unterschiedlich erfolgen\n",
    "    - Abbildung des gesamten Signal-Intervalls auf 256 Grauwerte - immer 4 (Röntgen) bzw. 16 (CT) Signalwerte werden auf einen Grauwert abgebildet\n",
    "        - **Vorteil:** Alle Signalwerte werden visualisiert\n",
    "        - **Nachteil:** Kontrast geht verloren (besonders im Bereich der Weichteile)\n",
    "    - Auswahl eines diagnostisch relevanten Signalbereichs - nur Signalwerte innerhalb des Bereichs werden auf die 256 Grauwerte abgebildet (Signalwerte außerhalb des Bereichs werden auf die Grauwerte 0 bzw. 255 gesetzt); dies wird als Fensterung (Windowing) bzw. Fenster-Funktion (Window function) bezeichnet \n",
    "        - **Vorteil:** Hoher Kontrast im relevanten Signalbereich\n",
    "        - **Nachteil:** Bei wechselnder Fragestellung muss Visualisierung erneut berechnet werden - ggf. müssen mehrere Grauwertbilder betrachtet werden\n",
    "\n",
    "***\n",
    "\n",
    "Ziel dieser Übung ist die Implementierung eines einfachen DICOM-Viewers zur Visualisierung eines CT-Bildes mit Hilfe einer interaktiven Fensterfunktion.\n",
    "\n",
    "Für das Verarbeiten von DICOM-Bildern sollen Sie die externe Python-Bibliothek `pydicom` verwenden.\n",
    "\n",
    "Die Bibliothek `pydicom` müssen Sie zunächst in Ihrer Python-Umgebung installieren (**auf den Laborrechnern ist dies bereits erledigt**):\n",
    "1. Je nach Methode Ihrer Python-Installation müssen Sie ggf. vorher `pip` (Paket-Manager für Python-Pakete) installieren <br> Für Anaconda / Miniconda: `conda install pip`\n",
    "1. Installieren Sie `pydicom`: `pip install pydicom`\n",
    "\n",
    "Anschließend kann die Bibliothek mittels `import dicom` (Version 0.9) bzw. `import pydicom` (Version 1.x) in Ihren Python-Code eingebunden werden.\n",
    "\n",
    "Die Dokumentation von `pydicom` finden Sie hier: <https://github.com/pydicom/pydicom>\n",
    "\n",
    "Auf den Laborrechnern ist nicht die aktuelle Version von `pydicom` installiert. Dies ist für diese Übung nicht schlimm, achten Sie bei der Verwendung der Dokumentation aber auf die von Ihnen verwendeten Version. Um zu prüfen welche Version Sie verwenden, können Sie auf der Kommandozeile folgenden Befehl nutzen: `pip show pydicom`\n",
    "\n",
    "Das in der Übung verwendete CT-Bild entstammt: *The Visible Human Project*: <https://www.nlm.nih.gov/research/visible/>\n",
    "\n",
    "Bildquelle: <https://mri.radiology.uiowa.edu/visible_human_datasets.html> (Visible Male CT Datasets / Shoulder / vhm.840.dcm).\n",
    "\n",
    "\n",
    "**Generelle Hinweise zur Bearbeitung:** \n",
    "\n",
    "Für die Visualisierung soll (sofern nicht anders angegeben) das `matplotlib`-Paket verwendet werden. Alle Bilder sollen *inline* in diesem Notebook ausgegeben werden.\n",
    "\n",
    "\n",
    "**Hinweise zur Abgabe**\n",
    "\n",
    "- Füllen Sie unbedingt die erste Zelle unterhalb der Überschrift mit Name und Matr.-Nr. aus!\n",
    "- Ergänzen Sie den Dateinamen des Notebooks vor der Abgabe um `_` und Ihre Matr.-Nr. (`Uebung 2 - Roentgen und CT_s0500000.ipynb`)\n",
    "- Entfernen Sie vor dem Upload alle Ausgaben aus dem Notebook!\n",
    "- Die Datei `dicom_ct.dcm` muss nicht abgegeben werden.\n",
    "\n",
    "**Hinweise zur Benotung**\n",
    "\n",
    "- Die Aufgabe wird nach dem üblichen Notenschema von 1,0 bis 5,0 bewertet.\n",
    "- Diese Aufgabe wird mit 35% in der Gesamtnote der Übung gewichtet.\n",
    "\n",
    "\n",
    "### Viel Erfolg!"
   ]
  },
  {
   "cell_type": "markdown",
   "metadata": {},
   "source": [
    "---\n",
    "---"
   ]
  },
  {
   "cell_type": "markdown",
   "metadata": {},
   "source": [
    "### Aufgaben:"
   ]
  },
  {
   "cell_type": "markdown",
   "metadata": {},
   "source": [
    "**1. Einlesen und Visualisieren des DICOM-Bildes**\n",
    "\n",
    "Lesen sie die DICOM-Datei mit Hilfe der `pydicom`-Bibliothek ein.\n",
    "Visualisieren Sie das in der Datei enthaltene Bild (verwenden Sie die Funktionen `imshow` und `show` aus `matplotlib`).\n",
    "\n",
    "Ergänzen Sie Ihre Visualisierung des Bildes um zusätzliche Meta-Daten (in Textform), die Sie aus der DICOM-Datei auslesen. Verwenden Sie hierfür beispielhaft mindestens **sechs** relevante Daten, z.B. Patientenname, Zeilen- und Spaltenanzahl des Bildes. Visualisieren Sie den Textblock *ansprechend* als Erläuterung zum Bild in Form von Key-Value-Paaren, d.h. achten Sie auf Formatierung, Anordnung, etc.\n",
    "\n",
    "Ziehen Sie zur Lösung der Aufgabe die Dokumentation der `pydicom`-Bibliothek heran (z.B. für Version 0.9: <https://pydicom.github.io/pydicom/0.9/viewing_images.html> - Using pydicom with matplotlib; Ersetzen Sie aber den Import und den Aufruf von `pylab` mit `import matplotlib.pyplot as plt` bzw. `plt.functionName`).\n",
    "\n",
    "Ein Parameter der `imshow`-Funktion ist die Colormap (Parameter `cmap`). Über die Colormap wird festgelegt, wie die Werte im Bild (bzw. im Pixel-Array) interpretiert werden sollen. Experimentieren Sie mit verschiedenen Einstellungen für die Colormap und achten Sie auf die Unterschiede (Sie können den Parameter auch ganz weglassen). Zur Abgabe wählen Sie die Colormap `bone` (diese Colormap betont den Blaukanal, was den typischen *Blaustich* von alten Film-Röntgenbildern nachempfinden soll)."
   ]
  },
  {
   "cell_type": "code",
   "execution_count": null,
   "metadata": {},
   "outputs": [],
   "source": [
    "import matplotlib.pyplot as plt\n",
    "import pydicom\n",
    "import numpy as np\n",
    "%matplotlib inline\n",
    "\n",
    "\n",
    "data = pydicom.dcmread(\"dicom_ct.dcm\")\n",
    "plt.figure(figsize=(10,10))\n",
    "patinfo = data.dir()\n",
    "def pattext(i,x,h):\n",
    "    plt.text(520,15*h, patinfo[i]+\":\", horizontalalignment='left', verticalalignment='baseline',fontsize=18)\n",
    "    plt.text(690,15*h, x, horizontalalignment='left', verticalalignment='baseline', fontsize=18)\n",
    "    return\n",
    "pattext(19,data.PatientName,1)\n",
    "pattext(18,data.PatientID,4)\n",
    "pattext(3,data.Columns,8)\n",
    "pattext(30,data.Rows,12)\n",
    "pattext(39,data.StudyDescription,16)\n",
    "pattext(38,data.StudyDate,20)\n",
    "plt.imshow(data.pixel_array, cmap = plt.cm.bone)\n",
    "plt.show()\n",
    "#print(data.pixel_array)\n",
    "\n",
    "\n",
    "#print(data)\n",
    "\n",
    "#print(data[0x10,0x10])\n"
   ]
  },
  {
   "cell_type": "markdown",
   "metadata": {},
   "source": [
    "**2. Implementierung einer Fenster-Funktion**\n",
    "\n",
    "Implementieren Sie eine Funktion zur Fensterung der Pixel-Werte.\n",
    "\n",
    "Sehen Sie für Ihre Funktion zwei Parameter zur Festlegung der unteren und oberen Grenze des Signalbereichs vor.\n",
    "\n",
    "Graphische Darstellung einer linearen Fensterfunktion:\n",
    "\n",
    "![windowFunction](windowFunction.svg)\n",
    "\n",
    "Visualisieren Sie das Ergebnisbild nach Anwendung der Funktion mit den Grenzwerten 0 und 1000.\n",
    "\n",
    "**Hinweise:**\n",
    "- Obwohl die Hounsfield-Skala die Werte von -1024 bis 3071 umfasst, sind die Signalwerte im Intervall 0 bis 4095 in der Datei gespeichert (so kann das Vorzeichen eingespart werden). Ein ebenfalls in der Datei angegebener Offset legt fest, wie die Werte verändert werden müssen, um wieder auf die Hounsfield-Skala zu gelangen. Ihre Fenster-Funktion soll auf den Werten des Bildes (0 - 4095) arbeiten. Der Offset kommt erst in **Aufgabe 3** zur Anwendung.\n",
    "- Die aus der DICOM-Datei mittels `pydicom` eingelesenen Pixel-Daten liegen als `numpy`-Array vor. Achten Sie bei Ihrer Implementierung darauf, dass Sie die speziellen `numpy`-Funktionen für alle Zugriffe auf das Array verwenden.\n",
    "- Legen sie vor jedem Aufruf Ihrer Fenster-Funktion eine **tiefe** Kopie der Pixel-Werte aus der DICOM-Datei an (auf der Sie dann arbeiten), da Sie sonst die DICOM-Datei immer neu einlesen müssten, falls Sie dort die Pixelwerte verändern.\n",
    "- In Abhängigkeit Ihrer Implementierung kann die Fenster-Funktion einige Sekunden benötigen. Sollte es wesentlich länger dauern, prüfen Sie, ob Sie versehentlich eine nicht-`numpy`-Funktion für den Zugriff auf das Pixel-Array verwenden.\n",
    "- Verwenden Sie ab dieser Aufgabe die Colormap `gray` für alle folgenden Visualisierungen."
   ]
  },
  {
   "cell_type": "code",
   "execution_count": null,
   "metadata": {},
   "outputs": [],
   "source": [
    "from copy import deepcopy\n",
    "copy_aufg2 = deepcopy(data)\n",
    "\n",
    "def window(uG,oG):\n",
    "    pxlArr2= copy_aufg2.pixel_array\n",
    "    hl = np.clip(pxlArr2,a_min=uG,a_max=oG)  \n",
    "    pixel = hl - uG\n",
    "    new = pixel * (255/oG-uG) \n",
    "    return new\n",
    "\n",
    "newImg = window(0,1000) \n",
    "\n",
    "plt.figure(figsize= (10,10))\n",
    "plt.subplot(2, 2, 1)\n",
    "plt.imshow(data.pixel_array,cmap = plt.cm.bone)\n",
    "plt.title(\"Original CT aufnahme\\n\")\n",
    "\n",
    "plt.subplot(2, 2, 2)\n",
    "plt.imshow(newImg , cmap = plt.cm.gray)\n",
    "plt.title(\"CT Aufnahme mit Fenster-Funktion\\n\")\n",
    "plt.subplots_adjust(hspace=0.5)\n",
    "\n",
    "\n"
   ]
  },
  {
   "cell_type": "markdown",
   "metadata": {},
   "source": [
    "**3. Interaktive Visualisierung als DICOM-Viewer**\n",
    "\n",
    "Realisieren Sie Ihre Fenster-Funktion aus **Aufgabe 2** als interaktiven DICOM-Viewer.\n",
    "\n",
    "Nutzen Sie die Funktionen zur Erstellung einer interaktiven Visualisierung aus dem `ipywidgets`-Paket (siehe auch Demo-Notebook -> Beispiel Gauss-Filter). Sehen Sie zwei Slider vor, über die folgende Parameter der Fensterung festgelegt werden können:\n",
    "1. Zentrum des Fensters\n",
    "2. Breite des Fensters\n",
    "\n",
    "Die in den Pixel-Daten gespeicherten Werte sind im Bereich von 0 bis 4095 angegeben. Dies entspricht nicht der Hounsfield-Skala. Daher ist in den Meta-Daten der vorliegenden DICOM-Datei zusätzlich ein Offset (`Rescale Intercept`)  angegeben. Lesen Sie den Wert des Parameters `Rescale Intercept` aus der DICOM-Datei aus. Um vom Pixel-Wert auf die wirklichen Hounsfield Units zu gelangen, muss der Wert des Offsets addiert werden (Pixel-Wert 0 entspricht $0 + Offset$ in HU; der Offset ist negativ, daher ist hier eine Addition notwendig).\n",
    "\n",
    "Über die Slider Ihres Viewers sollen die Werte in HU angegeben werden, d.h. Sie müssen die untere und obere Grenze aus den Werten für das Zentrum und der Breite berechnen und dabei den Offset berücksichtigen. Achten Sie hierbei auf das Vorzeichen des Offsets und die Richtung der Konvertierung.\n",
    "\n",
    "Als Wertebereiche der Slider verwenden Sie:\n",
    "- Zentrum: -1024 bis 3071\n",
    "- Breite: 0 bis 4095\n",
    "- Schrittweite jeweils 1\n",
    "\n",
    "Prüfen Sie vor dem Aufruf der Fenster-Funktion auf zulässige Grenzwerte und korrigieren Sie unzulässige Werte, so dass die Fensterfunktion keinen Fehler verursacht und immer ein *sinnvolles* Ergibnisbild angezeigt wird.\n",
    "\n",
    "Da die Fenster-Funktion eine recht hohe Laufzeit haben *kann*, soll Sie immer nur dann ausgeführt werden, wenn die Slider *losgelassen* werden. Dies kann über den Parameter `continuous_update=False` bei der Definition der Slider-festgelegt werden (siehe auch Demo-Notebook -> Beispiel Gauss-Filter).\n",
    "\n",
    "**Hinweise:**\n",
    "- Achten Sie auch hier darauf, das Sie immer auf einer neuen, tiefen Kopie der Pixel-Daten arbeiten."
   ]
  },
  {
   "cell_type": "code",
   "execution_count": null,
   "metadata": {},
   "outputs": [],
   "source": [
    "import ipywidgets as widgets\n",
    "from ipywidgets import interact\n",
    "\n",
    "copy_aufg3 = deepcopy(data)\n",
    "pxlArr3 = copy_aufg3.pixel_array\n",
    "\n",
    "offset = copy_aufg3[0x0028, 0x1052].value\n",
    "\n",
    "def hu_function(center,width):\n",
    "    lower_limit = center - (width//2) - offset\n",
    "    upper_limit = center + (width//2) - offset\n",
    "\n",
    "    if lower_limit  < 0:\n",
    "        print(\"negative werte nicht erlaubt\")\n",
    "        center = 0 + (width//2)\n",
    "        lower_limit = center - (width//2) \n",
    "        upper_limit = center + (width//2)\n",
    "    if upper_limit > 4095:\n",
    "        print(\"zu hoher wert\")\n",
    "        center = 4095 + (width//2)\n",
    "        lower_limit = center - (width//2) \n",
    "        upper_limit = center + (width//2) \n",
    "        \n",
    "    lower = lower_limit\n",
    "    upper = upper_limit\n",
    "    \n",
    "    print(lower,upper)\n",
    "    \n",
    "    new_img =  window(lower,upper)\n",
    "    plt.imshow(new_img, cmap=plt.cm.gray)\n",
    "    plt.annotate(\"Center:\" + str(center), xy=(0,0),xytext =(530,20), fontsize=20)\n",
    "    plt.annotate(\"Width:\" + str(width), xy=(0,0),xytext =(530,80), fontsize=20)\n",
    "\n",
    "\n",
    "center_Slider = widgets.IntSlider(min=-1024,max=3071,step=1,value = 0, continuous_update=False)\n",
    "width_Slider = widgets.IntSlider(min= 2,max=4095,step=1, value = 1000, continuous_update=False)\n",
    "interact(hu_function,center = center_Slider, width = width_Slider);"
   ]
  },
  {
   "cell_type": "markdown",
   "metadata": {},
   "source": [
    "---\n",
    "---"
   ]
  },
  {
   "cell_type": "markdown",
   "metadata": {},
   "source": [
    "### Bonusaufgaben (optional)\n",
    "\n",
    "- Ändern Sie Ihre Implementierung aus **Aufgabe 3** so, dass zusätzlich zu den Slidern auch zwei Textboxen zur Eingabe der Werte für Zentrum und Breite des Fensters angezeigt werden. Jeder Slider soll dabei mit jeweils einer der Textboxen *verlinkt* werden, so dass der eingestellte / eingegebene Wert gegenseitig übernommen wird. Sind Ihre Widgets korrekt *verlinkt*, können Sie `interact` wie in **Aufgabe 3** mit den Slidern aufrufen und die Textboxen über `display(centerBox, widthBox)` zusätzlich anzeigen. Orientieren Sie sich hierzu an der Dokumentation der interaktiven Widgets (<https://ipywidgets.readthedocs.io/en/latest/> - insbesondere **Widget Events - Linking Widgets**).\n",
    "- Erweitern Sie Ihre Implementierung aus **Aufgabe 3** um einen dritten Slider, über den ein Schwellenwert (Grenzen 0 und 255, Schrittweite 1, Standardwert 127) für eine Binärkonvertierung festgelegt werden kann. Konvertieren Sie das Ergebnisbild aus der Fenster-Funktion unter Verwendung des Schwellenwertes in ein Binärbild. Eine einfache Konvertierung kann durch folgende Zeile erreicht werden: `binary_image = (image >= schwellenwert) * 1`. Visualisieren Sie Ihr Ergebnis zusammen mit weiteren Bildern in einem 2*2-Raster:\n",
    "    - Ergebnisbild der Fenster-Funktion (wie in **Aufgabe 3**)\n",
    "    - Binärbild mit Colormap `gray`\n",
    "    - Originalbild mit Colormap `bone`\n",
    "    - Originalbild mit Colormap `gray`\n",
    "\n",
    "Weitere Bonus-Funktionen sind nach Rücksprache ebenfalls möglich.\n",
    "\n",
    "Für die Realisierung der Bonus-Funktion nutzen Sie bitte zusätzliche Notebook-Zellen unterhalb dieser Erläuterung, so dass die Bonus-Funktionen keine Randeffekte im *Pflichtteil* hervorrufen. Kopieren Sie hierzu, falls nötig, benötigte Teile Ihrer bisherigen Lösungen bover Sie Veränderungen vornehmen. \n",
    "\n",
    "Stellen Sie Ihrer Bonus-Implementierung eine **kurze** Erläuterung der umgesetzten Funktion(en) voraus.\n",
    "\n",
    "Für das Erreichen der Bonuspunkte genügt die Umsetzung **einer** der genannten bzw. selbst ausgewählten Funktionalitäten!"
   ]
  },
  {
   "cell_type": "code",
   "execution_count": null,
   "metadata": {},
   "outputs": [],
   "source": []
  },
  {
   "cell_type": "code",
   "execution_count": null,
   "metadata": {},
   "outputs": [],
   "source": []
  }
 ],
 "metadata": {
  "anaconda-cloud": {},
  "kernelspec": {
   "display_name": "Python 3",
   "language": "python",
   "name": "python3"
  },
  "language_info": {
   "codemirror_mode": {
    "name": "ipython",
    "version": 3
   },
   "file_extension": ".py",
   "mimetype": "text/x-python",
   "name": "python",
   "nbconvert_exporter": "python",
   "pygments_lexer": "ipython3",
   "version": "3.7.3"
  }
 },
 "nbformat": 4,
 "nbformat_minor": 2
}
