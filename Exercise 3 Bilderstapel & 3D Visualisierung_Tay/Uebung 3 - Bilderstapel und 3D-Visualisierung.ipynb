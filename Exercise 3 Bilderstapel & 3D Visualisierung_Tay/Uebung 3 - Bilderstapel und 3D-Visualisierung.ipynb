{
 "cells": [
  {
   "cell_type": "markdown",
   "metadata": {},
   "source": [
    "# Übung 3 - Bilderstapel und  3D-Visualisierung\n",
    "***"
   ]
  },
  {
   "cell_type": "markdown",
   "metadata": {},
   "source": [
    "**Name:** NICHT VERGESSEN!\n",
    "<br>\n",
    "**Matr.-Nr.:** NICHT VERGESSEN!\n",
    "\n",
    "---"
   ]
  },
  {
   "cell_type": "markdown",
   "metadata": {},
   "source": [
    "## Bearbeitungszeitraum\n",
    "\n",
    "**Bearbeitungsbegin:** Mo, 03.06.2019\n",
    "<br>\n",
    "**Abgabe:** So, 23.06.2019, 23:55 Uhr\n",
    "\n",
    "---"
   ]
  },
  {
   "cell_type": "markdown",
   "metadata": {},
   "source": [
    "## Aufgabenbeschreibung"
   ]
  },
  {
   "cell_type": "markdown",
   "metadata": {},
   "source": [
    "Die Ergebnisse von tomographischen Bildgebungsverfahren (z.B. Computertomographie, Magnetresonanztomographie oder Positronen-Emissionstomographie) sind Stapel von z.T. mehreren hundert Schnitt-/Schichtbildern primär in der Transversalebene.\n",
    "Aus diesen *Originalbildern* können weitere Ebenen für eine Visualisierung berechnet werden. Der Bildstapel einer Ebene kann jedoch auch Basis einer 3D-Visualisierung sein.\n",
    "\n",
    "Innerhalb dieser Übung sollen zwei Ziele erreicht werden:\n",
    "1. Umgang mit Bilderstapeln und deren Visualisierung sowie die Verarbeitung der einzelnen Schichtbilder als Vorbereitung einer 3D-Rekonstruktion\n",
    "2. Rekonstruktion und Visualisierung eines 3D-Modells auf Basis eines (vorverarbeiteten) Bildstapels \n",
    "\n",
    "Den in dieser Übung zu verwendenden Bildstapel laden Sie bitte unter folgendem Link herunter: <https://mri.radiology.uiowa.edu/VHDicom/VHFCT1mm/VHF-Head.tar.gz>\n",
    "\n",
    "Der Datensatz ist den *CT Datasets (Visible Female CT Datasets)* des *Visible Human Project* (<https://www.nlm.nih.gov/research/visible/visible_human.html>) entnommen."
   ]
  },
  {
   "cell_type": "markdown",
   "metadata": {},
   "source": [
    "### Wichtige Hinweise zur Übung\n",
    "\n",
    "- Für die Realisierung von **Aufgabe 4** und des **Bonusteils** sind externe Bibliotheken ausdrücklich zugelassen.\n",
    "- Sollten Sie Bibliotheken verwenden, die sich nicht mittels `pip` oder `conda` installieren lassen bzw. externe Abhängigkeiten haben (z.B. OpenCV, VTK), müssen Sie Ihre Lösung innerhalb der Übung an Ihrem Arbeitsplatz vorstellen.\n",
    "- Die Vorstellung muss bis spätestens **20.06.2019** erfolgen.\n",
    "- Das Notebook wird parallel wie gewohnt über Moodle abgegeben.\n",
    "- Listen Sie vor jeder Aufgabe die von Ihnen ggf. verwendeten externen Bibliotheken auf.\n",
    "- Sollte keine Vorstellung erfolgen, werden nur die über Moodle abgegebenen und mit den *Standard-Paketen* (siehe Foliensatz **Organisatorisches**) bzw. nachinstallierbaren Paketen (mittels `pip` oder `conda`) ausführbaren Teile Ihrer Lösung bewertet.\n",
    "\n",
    "\n",
    "**Generelle Hinweise zur Bearbeitung:** \n",
    "\n",
    "Für die Visualisierung soll das `matplotlib`-Paket verwendet werden. Alle Bilder sollen *inline* in diesem Notebook ausgegeben werden. Ausnahmen sind bei den jeweiligen Aufgaben genannt.\n",
    "\n",
    "\n",
    "**Weitere Hinweise zur Abgabe**\n",
    "\n",
    "- Füllen Sie unbedingt die erste Zelle unterhalb der Überschrift mit Name und Matr.-Nr. aus!\n",
    "- Ergänzen Sie den Dateinamen des Notebooks vor der Abgabe um `_` und Ihre Matr.-Nr. (`Uebung 3 - Bilderstapel und 3D-Visualisierung_s0500000.ipynb`)\n",
    "- Entfernen Sie vor dem Upload alle Ausgaben aus dem Notebook!\n",
    "- Der verwendete Bildstapel muss nicht abgegeben werden.\n",
    "\n",
    "**Hinweise zur Benotung**\n",
    "\n",
    "- Die Aufgabe wird nach dem üblichen Notenschema von 1,0 bis 5,0 bewertet.\n",
    "- Diese Aufgabe wird mit 40% in der Gesamtnote der Übung gewichtet.\n",
    "\n",
    "### Viel Erfolg!"
   ]
  },
  {
   "cell_type": "markdown",
   "metadata": {},
   "source": [
    "---\n",
    "---"
   ]
  },
  {
   "cell_type": "markdown",
   "metadata": {},
   "source": [
    "### Aufgaben:\n",
    "\n",
    "**1. Einlesen und Visualisieren des DICOM-Bildstapels**\n",
    "\n",
    "Lesen Sie alle DICOM-Bilder des Verzeichnisses ein.\n",
    "Visualisieren Sie den Bildstapel mit Hilfe eines interaktiven **Sliders** über den durch den Bildstapel navigiert werden kann. \n",
    "\n",
    "**Hinweise:**\n",
    "- Verwenden Sie die Ihnen bekannte Bibliothek `pydicom` zum Einlesen der DICOM-Dateien.\n",
    "- Nutzen sie das Paket `ipywidgets` zur Realisierung der interaktiven Elemente.\n",
    "- Achten Sie beim Umgang mit Dateien und Verzeichnissen darauf, dass nicht immer nach Dateinamen sortierte Listen zurückgegeben werden."
   ]
  },
  {
   "cell_type": "code",
   "execution_count": 30,
   "metadata": {},
   "outputs": [
    {
     "name": "stdout",
     "output_type": "stream",
     "text": [
      "\n"
     ]
    },
    {
     "data": {
      "application/vnd.jupyter.widget-view+json": {
       "model_id": "240f2465d37c4bbc961b4fa70a3b5e9d",
       "version_major": 2,
       "version_minor": 0
      },
      "text/plain": [
       "interactive(children=(IntSlider(value=0, continuous_update=False, description='sliceNumber', max=233), Output(…"
      ]
     },
     "metadata": {},
     "output_type": "display_data"
    }
   ],
   "source": [
    "import pydicom\n",
    "import numpy as np \n",
    "import os\n",
    "import matplotlib.pyplot as plt\n",
    "import ipywidgets as widgets\n",
    "from ipywidgets import interact, fixed\n",
    "\n",
    "\n",
    "filesNew = []\n",
    "datenSatz = []\n",
    "\n",
    "\n",
    "output_path = './Head/'\n",
    "print()\n",
    "    \n",
    "def load_scan(path):\n",
    "    slices = [pydicom.read_file(path + '/' + s) for s in os.listdir(path)]\n",
    "    slices.sort(key = lambda x: int(x.InstanceNumber))\n",
    "    try:\n",
    "        slice_thickness = np.abs(slices[0].ImagePositionPatient[2] - slices[1].ImagePositionPatient[2])\n",
    "    except:\n",
    "        slice_thickness = np.abs(slices[0].SliceLocation - slices[1].SliceLocation)\n",
    "        \n",
    "    for s in slices:\n",
    "        s.SliceThickness = slice_thickness\n",
    "      \n",
    "    return slices\n",
    "\n",
    "for s in load_scan('./Head/'):\n",
    "    h = s.pixel_array\n",
    "    datenSatz.append(s)\n",
    "    filesNew.append(h)\n",
    "\n",
    "\n",
    "\n",
    "\n",
    "    \n",
    "def show_image(image_stack, sliceNumber):\n",
    "    pxl_ar = image_stack[sliceNumber]\n",
    "    #print(np.array_equal(pxl_ar,filesNew[sliceNumber]))\n",
    "    plt.imshow(pxl_ar, cmap= plt.cm.gray)\n",
    "    plt.show()\n",
    "    \n",
    "\n",
    "slider = widgets.IntSlider(min=0,max=len(filesNew)-1,step=1,value = 0, continuous_update=False)\n",
    "interact(show_image, image_stack = fixed(filesNew), sliceNumber = slider);\n",
    "\n",
    "\n"
   ]
  },
  {
   "cell_type": "markdown",
   "metadata": {},
   "source": [
    "**2. Konvertierung des DICOM-Bildstapels in Binärbilder**\n",
    "\n",
    "Implementieren sie eine Funktion zur Konvertierung eines Bildes in das Binärformat anhand eines gegebenen Schwellenwertes.\n",
    "\n",
    "In CT-DICOM-Bildern zeichnen sich die Bereiche des Untersuchungsobjektes über vergleichsweise hohe Signalwerte aus. Im Gegensatz dazu ist der Hintergrund durch niedrige Signalwerte gekennzeichnet. Mit Hilfe der binären Konvertierung kann das Objekt vom Hintergrund getrennt werden.\n",
    "\n",
    "Ihre Funktion soll die Pixel des Bildes anhand eines Vergleichs mit einem gegebenen Schwellenwert (Funktionsparameter) dem Hintergrund bzw. dem Objekt zuordnen:\n",
    "- Pixelwert < Schwellenwert: Pixel ist Hintergrundpixel\n",
    "- Pixelwert >= Schwellenwert: Pixel ist Objektpixel\n",
    "\n",
    "Wenden Sie Ihre Funktion auf alle Bilder des Stapels an. Wählen Sie hierzu einen Schwellenwert von **250**.\n",
    "\n",
    "Visualisieren Sie den konvertierten Bilderstapel analog zu **1.** (der Hintergrund soll in schwarz, das Objekt in weiß dargestellt werden)."
   ]
  },
  {
   "cell_type": "code",
   "execution_count": 2,
   "metadata": {},
   "outputs": [
    {
     "data": {
      "application/vnd.jupyter.widget-view+json": {
       "model_id": "72d85d11da604ee7a087ca8f21707307",
       "version_major": 2,
       "version_minor": 0
      },
      "text/plain": [
       "interactive(children=(IntSlider(value=0, continuous_update=False, description='sliceNumber', max=233), Output(…"
      ]
     },
     "metadata": {},
     "output_type": "display_data"
    }
   ],
   "source": [
    "threshold = 250\n",
    "binary_stack = []\n",
    "\n",
    "image = filesNew\n",
    "\n",
    "def to_binary(image, threshold):\n",
    "    return ( image >= threshold)*1 \n",
    "\n",
    "for image in filesNew:\n",
    "    binary_stack.append(to_binary(image, threshold))\n",
    "\n",
    "\n",
    "#print(len(binary_stack))\n",
    "#print(np.array_equal(binary_stack[0],filesNew[0]))\n",
    "    \n",
    "\n",
    "slider = widgets.IntSlider(min=0,max=len(binary_stack)-1,step=1,value = 0, continuous_update=False)\n",
    "interact(show_image, image_stack = fixed(binary_stack), sliceNumber = slider);\n",
    "\n",
    "\n",
    "\n",
    "#def binarySlice (sliceNumber,threshold):\n",
    "#    choosen_slice = binary_stack[sliceNumber]\n",
    "#    pxl_array = choosen_slice.pixel_array\n",
    "#    binarize = np.array(pxl_array >= threshold)\n",
    "     \n",
    "#    plt.imshow(pxl_array, cmap = plt.cm.gray)\n",
    "#    plt.show()\n",
    "    \n",
    "\n",
    "#slider = widgets.IntSlider(min=0,max=len(binary_stack)-1,step=1,value = 0, continuous_update=False)\n",
    "#interact(show_image, image_stack = fixed(binary_stack), sliceNumber = slider);\n",
    "\n"
   ]
  },
  {
   "cell_type": "markdown",
   "metadata": {},
   "source": [
    "**3. Optimieren der Binärbilder**\n",
    "\n",
    "Anhand der Visualisierung in **2.** ist zu erkennen, dass die Bilder z.T. kleine Artefakte im Hintergrund bzw. *Löcher* innerhalb des Objektes aufweisen. Der Objektrand ist teilweise sehr *ausgefranst*. Auf einigen Bildern sind Bereiche des Untersuchungstisches im Bild vorhanden.\n",
    "\n",
    "Versuchen Sie diese *ungünstigen* Eigenschaften der Bilder auszugleichen.\n",
    "\n",
    "1. Morphologische Operationen (Erosion, Dilatation, Öffnung, Schließung) zur Glättung der Objektränder, Schließung kleinerer Löcher im Objekt oder Entfernung kleinerer Artefakte\n",
    "    - Achten Sie auf die Reihenfolge der Operationen und deren Kombinationsmöglichkeiten\n",
    "2. Definieren eines **globalen** Objektbereichs über ein Rechteck. Alle Pixel außerhalb dieses Objektbereiches sind automatisch Hintergrund. Wenden Sie den von Ihnen definierten Objektbereich auf alle Bilder des Stapels an.\n",
    "    - Achten Sie bei der Festlegung des Objektbereichs darauf, dass keine Teile der korrekten Objekte versehentlich entfernt werden.\n",
    "\n",
    "**Weitere Optimierungen werden als Bonus gewertet.**\n",
    "\n",
    "Visualisieren Sie den optimierten Binärbildstapel analog zu **1.**\n",
    "\n",
    "**Hinweis:**\n",
    "- Die morphologische Operationen sind in den zugelassenen *Standard-Paketen* enthalten und dürfen verwendet werden."
   ]
  },
  {
   "cell_type": "code",
   "execution_count": 28,
   "metadata": {},
   "outputs": [
    {
     "ename": "SyntaxError",
     "evalue": "invalid syntax (<ipython-input-28-0acdefaa7775>, line 2)",
     "output_type": "error",
     "traceback": [
      "\u001b[0;36m  File \u001b[0;32m\"<ipython-input-28-0acdefaa7775>\"\u001b[0;36m, line \u001b[0;32m2\u001b[0m\n\u001b[0;31m    pip install vktplotter\u001b[0m\n\u001b[0m              ^\u001b[0m\n\u001b[0;31mSyntaxError\u001b[0m\u001b[0;31m:\u001b[0m invalid syntax\n"
     ]
    }
   ],
   "source": [
    "import scipy.ndimage as sc\n",
    "\n",
    "binst = binary_stack\n",
    "\n",
    "#print(len(pxl))\n",
    "\n",
    "\n",
    "\n",
    "opt_binst = []\n",
    "\n",
    "#region of interest\n",
    "vert_min = 115\n",
    "vert_max = 365\n",
    "horiz_min = 72\n",
    "horiz_max = 450\n",
    "\n",
    "def optimize_binary(binst,vert_min,vert_max,horiz_min,horiz_max):\n",
    "    roi = binst[vert_min:vert_max,horiz_min:horiz_max]\n",
    "    \n",
    "    #Morphological operations\n",
    "    ero = sc.binary_erosion(roi)\n",
    "    dil = sc.binary_dilation(ero)\n",
    "    return dil\n",
    "\n",
    "for binst in binary_stack:\n",
    "    opt_binst.append(optimize_binary(binst,vert_min,vert_max,horiz_min,horiz_max))\n",
    "    \n",
    "print(np.array_equal(opt_binst[0], opt_binst[2]))\n",
    "\n",
    "#plt.imshow(opt_binst[20], cmap= plt.cm.gray)\n",
    "\n",
    "\n",
    "slider = widgets.IntSlider(min=0,max=len(opt_binst)-1,step=1,value = 0, continuous_update=False)\n",
    "interact(show_image, image_stack = fixed(opt_binst), sliceNumber = slider);\n",
    "\n",
    "\n",
    "\n",
    "\n",
    "#######\n",
    "\n",
    "\n",
    "# alles im hintergrund auf 0 setzen\n",
    "#pxlTestLinkRechts = pxl[365:512 , 450:512] # mitte nach unten  , mitte bis rechts\n",
    "#pxlTestObUnt = pxl[0:115 , 0:72] #oben nach unten , links nach rechts mitte\n",
    "\n",
    "#pxlclip = pxl[0:115 , 0:72]\n",
    "#plt.imshow(pxlclip )\n",
    "#pxl11 = pxl[365:512 , 0:512] # gucken ob der tisch angezeigt wird bzw schwarze balken rechts links\n",
    "\n",
    "########\n",
    "\n",
    "#print(np.array_equal(pxl1, pxl))\n",
    "#print(len(pxl1), len(pxl))\n",
    "\n",
    "\n",
    "########\n",
    "\n",
    "\n",
    "#Plot new and old \n",
    "#plt.subplot(2,2,1)\n",
    "#plt.imshow(ero ,cmap=plt.cm.gray)\n",
    "#plt.title(\"erosion\")\n",
    "\n",
    "#plt.subplot(2,2,2)\n",
    "#plt.imshow(dil, cmap=plt.cm.gray)\n",
    "#plt.title(\"dilatation\")\n",
    "\n",
    "#plt.subplots_adjust(hspace=0.6)\n",
    "\n",
    "\n",
    "plt.show()\n",
    "\n"
   ]
  },
  {
   "cell_type": "markdown",
   "metadata": {},
   "source": [
    "**4. 3D-Rekonstruktion**\n",
    "\n",
    "Basierend auf den Binärbildern aus **3.** sollen Sie ein 3D-Modell des Datensatzes rekonstruieren.\n",
    "\n",
    "Grundsätzlich stehen für eine Rekonstruktion verschiedene Ansätze zur Auswahl, u.a.:\n",
    "- Detektion der Außenkonturen der Objekte und anschließende Triangulation der Oberfläche (Bildung von Dreiecken).\n",
    "- Anwendung des Marching-Cubes-Algorithmus\n",
    "- Konstruktion eines Volumenmodells aus den Objektvoxeln der gestapelten Schichten. \n",
    "\n",
    "Der Ansatz sowie die verwendeten Bibliotheken, den/die Sie verfolgen/verwenden wollen, bleibt Ihnen überlassen. \n",
    "\n",
    "**Wichtig:**\n",
    "- Erläutern Sie vor Ihrer Implementierung **kurz** den von Ihnen gewählten Ansatz.\n",
    "\n",
    "Ihr Ergebnis sollen Sie als 3D-Plot im Notebook visualisieren. Ein *statisches* Perspektivbild (leichte Neigung auf allen Achsen) reicht hierfür aus.\n",
    "\n",
    "**Hinweise:**\n",
    "- Die Bilder innerhalb des Stapels sind von unten (Teil des oberen Brustkorbs) nach oben (Schädeldecke) über die Dateinamen sortiert (kleine Nummern liegen im Stapel unten, große Nummer oben). Berücksichtigen Sie dies in Ihrer Rekonstruktion (der Kopf soll im 3D-Modell oben sein). \n",
    "- Je nach verwendeter Bibliothek für die Rekonstruktion kann es möglich sein, dass die Visualisierung nicht mittels `matplotlib` umgesetzt werden kann. Sollten Sie eine andere Bibliothek für die Visualisierung verwenden, vermerken Sie dies.\n",
    "- Sollten Sie externe Bibliotheken nutzen (die ggf. `Python`-Bindings erfordern) und für die Arbeit den Laborrechner verwenden wollen, müssen Sie diese als **Nutzer** nachinstallieren. Dies können Sie mittels `pip3 install --user PaketName`.\n",
    "- Viele externe Bibliotheken bieten reichhaltige Funktionen zur Optimierung der Bilddaten vor einer 3D-Rekonstruktion an. Diese dürfen im *Pflichtteil* der Übung jedoch **nicht** verwendet werden. Der Input für die 3D-Rekonstruktion muss Ihr Ergebnis aus **Aufgabe 3** sein. Die vollen Möglichkeiten der externen Bibliotheken können Sie im Rahmen der *Bonusaufgabe* nutzen."
   ]
  },
  {
   "cell_type": "code",
   "execution_count": 59,
   "metadata": {},
   "outputs": [
    {
     "name": "stdout",
     "output_type": "stream",
     "text": [
      "1.0\n",
      "1.000000 1.000000\n"
     ]
    },
    {
     "ename": "NameError",
     "evalue": "name 'v' is not defined",
     "output_type": "error",
     "traceback": [
      "\u001b[0;31m---------------------------------------------------------------------------\u001b[0m",
      "\u001b[0;31mNameError\u001b[0m                                 Traceback (most recent call last)",
      "\u001b[0;32m<ipython-input-59-4dbd9d598f1d>\u001b[0m in \u001b[0;36m<module>\u001b[0;34m\u001b[0m\n\u001b[1;32m     55\u001b[0m \u001b[0;34m\u001b[0m\u001b[0m\n\u001b[1;32m     56\u001b[0m     \u001b[0mv\u001b[0m\u001b[0;34m,\u001b[0m \u001b[0mf\u001b[0m \u001b[0;34m=\u001b[0m \u001b[0mmake_mesh\u001b[0m\u001b[0;34m(\u001b[0m\u001b[0mimgs_after_resamp\u001b[0m\u001b[0;34m,\u001b[0m \u001b[0;36m350\u001b[0m\u001b[0;34m)\u001b[0m\u001b[0;34m\u001b[0m\u001b[0;34m\u001b[0m\u001b[0m\n\u001b[0;32m---> 57\u001b[0;31m \u001b[0mplt_3d\u001b[0m\u001b[0;34m(\u001b[0m\u001b[0mv\u001b[0m\u001b[0;34m,\u001b[0m \u001b[0mf\u001b[0m\u001b[0;34m)\u001b[0m\u001b[0;34m\u001b[0m\u001b[0;34m\u001b[0m\u001b[0m\n\u001b[0m",
      "\u001b[0;31mNameError\u001b[0m: name 'v' is not defined"
     ]
    }
   ],
   "source": [
    "#get SliceThickness\n",
    "print(datenSatz[1].SliceThickness)\n",
    "print( datenSatz[0].PixelSpacing[0], datenSatz[0].PixelSpacing[1])\n",
    "#SliceThickness = 1.0\n",
    "#PixelSpacing = 1.0mm voxel\n",
    "\n",
    "\n",
    "def make_mesh(image, threshold=-300, step_size=1):\n",
    "\n",
    "    print (\"Transposing surface\")\n",
    "    p = image.transpose(2,1,0)\n",
    "    \n",
    "    print (\"Calculating surface\")\n",
    "    verts, faces, norm, val = measure.marching_cubes(p, threshold, step_size=step_size, allow_degenerate=True) \n",
    "    return verts, faces\n",
    "\n",
    "def plotly_3d(verts, faces):\n",
    "    x,y,z = zip(*verts) \n",
    "    \n",
    "    print (\"Drawing\")\n",
    "    \n",
    "    # Make the colormap single color since the axes are positional not intensity. \n",
    "#    colormap=['rgb(255,105,180)','rgb(255,255,51)','rgb(0,191,255)']\n",
    "    colormap=['rgb(236, 236, 212)','rgb(236, 236, 212)']\n",
    "    \n",
    "    fig = FF.create_trisurf(x=x,\n",
    "                        y=y, \n",
    "                        z=z, \n",
    "                        plot_edges=False,\n",
    "                        colormap=colormap,\n",
    "                        simplices=faces,\n",
    "                        backgroundcolor='rgb(64, 64, 64)',\n",
    "                        title=\"Interactive Visualization\")\n",
    "    iplot(fig)\n",
    "\n",
    "def plt_3d(verts, faces):\n",
    "    print (\"Drawing\")\n",
    "    x,y,z = zip(*verts) \n",
    "    fig = plt.figure(figsize=(10, 10))\n",
    "    ax = fig.add_subplot(111, projection='3d')\n",
    "\n",
    "    # Fancy indexing: `verts[faces]` to generate a collection of triangles\n",
    "    mesh = Poly3DCollection(verts[faces], linewidths=0.05, alpha=1)\n",
    "    face_color = [1, 1, 0.9]\n",
    "    mesh.set_facecolor(face_color)\n",
    "    ax.add_collection3d(mesh)\n",
    "\n",
    "    ax.set_xlim(0, max(x))\n",
    "    ax.set_ylim(0, max(y))\n",
    "    ax.set_zlim(0, max(z))\n",
    "    ax.set_axis_bgcolor((0.7, 0.7, 0.7))\n",
    "    plt.show()\n",
    "    \n",
    "    \n",
    "    \n",
    "    v, f = make_mesh(imgs_after_resamp, 350)\n",
    "plt_3d(v, f)"
   ]
  },
  {
   "cell_type": "markdown",
   "metadata": {},
   "source": [
    "---\n",
    "---"
   ]
  },
  {
   "cell_type": "markdown",
   "metadata": {},
   "source": [
    "### Bonusaufgaben\n",
    "\n",
    "- Weitere Optimierungen der Binärbilder in **3.** (externe Frameworks dürfen verwendet werden).\n",
    "- Je nach verwendeter Visualisierung in **4.** könnte die Rotation des 3D-Modells um die Achsen interaktiv festgelegt werden. Möglich wären z.B. jeweils ein Slider für x-, y- und z-Achse.\n",
    "\n",
    "Weitere Bonus-Funktionen sind nach Rücksprache ebenfalls möglich.\n",
    "\n",
    "Für die Realisierung der Bonus-Funktion nutzen Sie bitte zusätzliche Notebook-Zellen unterhalb dieser Erläuterung, so dass die Bonus-Funktionen keine Randeffekte im *Pflichtteil* hervorrufen. Kopieren Sie hierzu, falls nötig, benötigte Teile Ihrer bisherigen Lösungen bover Sie Veränderungen vornehmen.\n",
    "\n",
    "Stellen Sie Ihrer Bonus-Implementierung eine **kurze** Erläuterung der umgesetzten Funktion(en) voraus.\n",
    "\n",
    "Für das Erreichen der Bonuspunkte genügt die Umsetzung **einer** der genannten bzw. selbst ausgewählten Funktionalitäten!"
   ]
  },
  {
   "cell_type": "code",
   "execution_count": 39,
   "metadata": {},
   "outputs": [
    {
     "data": {
      "text/plain": [
       "<mpl_toolkits.mplot3d.art3d.Poly3DCollection at 0xb52782080>"
      ]
     },
     "execution_count": 39,
     "metadata": {},
     "output_type": "execute_result"
    },
    {
     "data": {
      "image/png": "[encoded data removed]",
      "text/plain": [
       "<Figure size 432x288 with 1 Axes>"
      ]
     },
     "metadata": {
      "needs_background": "light"
     },
     "output_type": "display_data"
    }
   ],
   "source": [
    "from mpl_toolkits.mplot3d import axes3d\n",
    "import matplotlib.pyplot as plt\n",
    "import numpy as np\n",
    "%matplotlib inline\n",
    "\n",
    "\n",
    "\n",
    "np.random.seed(1234)\n",
    "fig = plt.figure()\n",
    "ax1 = fig.add_subplot(111, projection='3d')\n",
    "A = np.random.randint(5, size=(25, 10))\n",
    "\n",
    "x = np.array([[i] * 10 for i in range(25)]).ravel() # x coordinates of each bar\n",
    "y = np.array([i for i in range(10)] * 25) # y coordinates of each bar\n",
    "z = np.zeros(25*10) # z coordinates of each bar\n",
    "dx = np.ones(25*10) # length along x-axis of each bar\n",
    "dy = np.ones(25*10) # length along y-axis of each bar\n",
    "dz = A.ravel() # length along z-axis of each bar (height)\n",
    "\n",
    "ax1.bar3d(x, y, z, dx, dy, dz)\n",
    "\n"
   ]
  },
  {
   "cell_type": "code",
   "execution_count": null,
   "metadata": {
    "scrolled": true
   },
   "outputs": [],
   "source": []
  },
  {
   "cell_type": "code",
   "execution_count": null,
   "metadata": {},
   "outputs": [],
   "source": []
  }
 ],
 "metadata": {
  "anaconda-cloud": {},
  "kernelspec": {
   "display_name": "Python 3",
   "language": "python",
   "name": "python3"
  },
  "language_info": {
   "codemirror_mode": {
    "name": "ipython",
    "version": 3
   },
   "file_extension": ".py",
   "mimetype": "text/x-python",
   "name": "python",
   "nbconvert_exporter": "python",
   "pygments_lexer": "ipython3",
   "version": "3.7.3"
  }
 },
 "nbformat": 4,
 "nbformat_minor": 2
}
